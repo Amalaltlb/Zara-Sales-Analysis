{
 "cells": [
  {
   "cell_type": "markdown",
   "id": "f898e355-b6f0-4304-be1b-2b48dfb05fe2",
   "metadata": {},
   "source": [
    "# Data Exploration and Cleaning :"
   ]
  },
  {
   "cell_type": "markdown",
   "id": "e4847b78-de1a-44b1-81f6-c126119030c4",
   "metadata": {},
   "source": [
    "### Zara Sales Analysis - Data Exploration and Cleaning\n",
    "This notebook explores the Zara sales dataset to understand customer behavior and clean the data for further analysis.\n"
   ]
  },
  {
   "cell_type": "code",
   "execution_count": 32,
   "id": "4e37e708-c670-49c9-bf03-854696fc14a3",
   "metadata": {},
   "outputs": [],
   "source": [
    "#Import Libraries\n",
    "\n",
    "import pandas as pd\n",
    "import numpy as plt\n",
    "import matplotlib.pylab as plt\n",
    "import seaborn as sns\n"
   ]
  },
  {
   "cell_type": "code",
   "execution_count": 98,
   "id": "bc1c5b80-2a3d-401b-8204-03a9687088cd",
   "metadata": {},
   "outputs": [],
   "source": [
    "#Load and Inspect the Data\n",
    "df = pd.read_csv('zara.csv', sep = \";\") #read file\n"
   ]
  },
  {
   "cell_type": "code",
   "execution_count": 36,
   "id": "b0e376f5-8186-479c-a98e-5e3d01f933b0",
   "metadata": {},
   "outputs": [
    {
     "data": {
      "text/html": [
       "<div>\n",
       "<style scoped>\n",
       "    .dataframe tbody tr th:only-of-type {\n",
       "        vertical-align: middle;\n",
       "    }\n",
       "\n",
       "    .dataframe tbody tr th {\n",
       "        vertical-align: top;\n",
       "    }\n",
       "\n",
       "    .dataframe thead th {\n",
       "        text-align: right;\n",
       "    }\n",
       "</style>\n",
       "<table border=\"1\" class=\"dataframe\">\n",
       "  <thead>\n",
       "    <tr style=\"text-align: right;\">\n",
       "      <th></th>\n",
       "      <th>Product ID</th>\n",
       "      <th>Product Position</th>\n",
       "      <th>Promotion</th>\n",
       "      <th>Product Category</th>\n",
       "      <th>Seasonal</th>\n",
       "      <th>Sales Volume</th>\n",
       "      <th>brand</th>\n",
       "      <th>url</th>\n",
       "      <th>sku</th>\n",
       "      <th>name</th>\n",
       "      <th>description</th>\n",
       "      <th>price</th>\n",
       "      <th>currency</th>\n",
       "      <th>scraped_at</th>\n",
       "      <th>terms</th>\n",
       "      <th>section</th>\n",
       "    </tr>\n",
       "  </thead>\n",
       "  <tbody>\n",
       "    <tr>\n",
       "      <th>0</th>\n",
       "      <td>185102</td>\n",
       "      <td>Aisle</td>\n",
       "      <td>No</td>\n",
       "      <td>Clothing</td>\n",
       "      <td>No</td>\n",
       "      <td>2823</td>\n",
       "      <td>Zara</td>\n",
       "      <td>https://www.zara.com/us/en/basic-puffer-jacket...</td>\n",
       "      <td>272145190-250-2</td>\n",
       "      <td>BASIC PUFFER JACKET</td>\n",
       "      <td>Puffer jacket made of tear-resistant ripstop f...</td>\n",
       "      <td>19.99</td>\n",
       "      <td>USD</td>\n",
       "      <td>2024-02-19T08:50:05.654618</td>\n",
       "      <td>jackets</td>\n",
       "      <td>MAN</td>\n",
       "    </tr>\n",
       "    <tr>\n",
       "      <th>1</th>\n",
       "      <td>188771</td>\n",
       "      <td>Aisle</td>\n",
       "      <td>No</td>\n",
       "      <td>Clothing</td>\n",
       "      <td>No</td>\n",
       "      <td>654</td>\n",
       "      <td>Zara</td>\n",
       "      <td>https://www.zara.com/us/en/tuxedo-jacket-p0889...</td>\n",
       "      <td>324052738-800-46</td>\n",
       "      <td>TUXEDO JACKET</td>\n",
       "      <td>Straight fit blazer. Pointed lapel collar and ...</td>\n",
       "      <td>169.00</td>\n",
       "      <td>USD</td>\n",
       "      <td>2024-02-19T08:50:06.590930</td>\n",
       "      <td>jackets</td>\n",
       "      <td>MAN</td>\n",
       "    </tr>\n",
       "    <tr>\n",
       "      <th>2</th>\n",
       "      <td>180176</td>\n",
       "      <td>End-cap</td>\n",
       "      <td>Yes</td>\n",
       "      <td>Clothing</td>\n",
       "      <td>Yes</td>\n",
       "      <td>2220</td>\n",
       "      <td>Zara</td>\n",
       "      <td>https://www.zara.com/us/en/slim-fit-suit-jacke...</td>\n",
       "      <td>335342680-800-44</td>\n",
       "      <td>SLIM FIT SUIT JACKET</td>\n",
       "      <td>Slim fit jacket. Notched lapel collar. Long sl...</td>\n",
       "      <td>129.00</td>\n",
       "      <td>USD</td>\n",
       "      <td>2024-02-19T08:50:07.301419</td>\n",
       "      <td>jackets</td>\n",
       "      <td>MAN</td>\n",
       "    </tr>\n",
       "    <tr>\n",
       "      <th>3</th>\n",
       "      <td>112917</td>\n",
       "      <td>Aisle</td>\n",
       "      <td>Yes</td>\n",
       "      <td>Clothing</td>\n",
       "      <td>Yes</td>\n",
       "      <td>1568</td>\n",
       "      <td>Zara</td>\n",
       "      <td>https://www.zara.com/us/en/stretch-suit-jacket...</td>\n",
       "      <td>328303236-420-44</td>\n",
       "      <td>STRETCH SUIT JACKET</td>\n",
       "      <td>Slim fit jacket made of viscose blend fabric. ...</td>\n",
       "      <td>129.00</td>\n",
       "      <td>USD</td>\n",
       "      <td>2024-02-19T08:50:07.882922</td>\n",
       "      <td>jackets</td>\n",
       "      <td>MAN</td>\n",
       "    </tr>\n",
       "    <tr>\n",
       "      <th>4</th>\n",
       "      <td>192936</td>\n",
       "      <td>End-cap</td>\n",
       "      <td>No</td>\n",
       "      <td>Clothing</td>\n",
       "      <td>Yes</td>\n",
       "      <td>2942</td>\n",
       "      <td>Zara</td>\n",
       "      <td>https://www.zara.com/us/en/double-faced-jacket...</td>\n",
       "      <td>312368260-800-2</td>\n",
       "      <td>DOUBLE FACED JACKET</td>\n",
       "      <td>Jacket made of faux leather faux shearling wit...</td>\n",
       "      <td>139.00</td>\n",
       "      <td>USD</td>\n",
       "      <td>2024-02-19T08:50:08.453847</td>\n",
       "      <td>jackets</td>\n",
       "      <td>MAN</td>\n",
       "    </tr>\n",
       "  </tbody>\n",
       "</table>\n",
       "</div>"
      ],
      "text/plain": [
       "   Product ID Product Position Promotion Product Category Seasonal  \\\n",
       "0      185102            Aisle        No         Clothing       No   \n",
       "1      188771            Aisle        No         Clothing       No   \n",
       "2      180176          End-cap       Yes         Clothing      Yes   \n",
       "3      112917            Aisle       Yes         Clothing      Yes   \n",
       "4      192936          End-cap        No         Clothing      Yes   \n",
       "\n",
       "   Sales Volume brand                                                url  \\\n",
       "0          2823  Zara  https://www.zara.com/us/en/basic-puffer-jacket...   \n",
       "1           654  Zara  https://www.zara.com/us/en/tuxedo-jacket-p0889...   \n",
       "2          2220  Zara  https://www.zara.com/us/en/slim-fit-suit-jacke...   \n",
       "3          1568  Zara  https://www.zara.com/us/en/stretch-suit-jacket...   \n",
       "4          2942  Zara  https://www.zara.com/us/en/double-faced-jacket...   \n",
       "\n",
       "                sku                  name  \\\n",
       "0   272145190-250-2   BASIC PUFFER JACKET   \n",
       "1  324052738-800-46         TUXEDO JACKET   \n",
       "2  335342680-800-44  SLIM FIT SUIT JACKET   \n",
       "3  328303236-420-44   STRETCH SUIT JACKET   \n",
       "4   312368260-800-2   DOUBLE FACED JACKET   \n",
       "\n",
       "                                         description   price currency  \\\n",
       "0  Puffer jacket made of tear-resistant ripstop f...   19.99      USD   \n",
       "1  Straight fit blazer. Pointed lapel collar and ...  169.00      USD   \n",
       "2  Slim fit jacket. Notched lapel collar. Long sl...  129.00      USD   \n",
       "3  Slim fit jacket made of viscose blend fabric. ...  129.00      USD   \n",
       "4  Jacket made of faux leather faux shearling wit...  139.00      USD   \n",
       "\n",
       "                   scraped_at    terms section  \n",
       "0  2024-02-19T08:50:05.654618  jackets     MAN  \n",
       "1  2024-02-19T08:50:06.590930  jackets     MAN  \n",
       "2  2024-02-19T08:50:07.301419  jackets     MAN  \n",
       "3  2024-02-19T08:50:07.882922  jackets     MAN  \n",
       "4  2024-02-19T08:50:08.453847  jackets     MAN  "
      ]
     },
     "execution_count": 36,
     "metadata": {},
     "output_type": "execute_result"
    }
   ],
   "source": [
    "#exploration\n",
    "df.head()"
   ]
  },
  {
   "cell_type": "code",
   "execution_count": 38,
   "id": "d4b57fb1-9790-4d1c-ba2d-56f90df95996",
   "metadata": {},
   "outputs": [
    {
     "name": "stdout",
     "output_type": "stream",
     "text": [
      "<class 'pandas.core.frame.DataFrame'>\n",
      "RangeIndex: 252 entries, 0 to 251\n",
      "Data columns (total 16 columns):\n",
      " #   Column            Non-Null Count  Dtype  \n",
      "---  ------            --------------  -----  \n",
      " 0   Product ID        252 non-null    int64  \n",
      " 1   Product Position  252 non-null    object \n",
      " 2   Promotion         252 non-null    object \n",
      " 3   Product Category  252 non-null    object \n",
      " 4   Seasonal          252 non-null    object \n",
      " 5   Sales Volume      252 non-null    int64  \n",
      " 6   brand             252 non-null    object \n",
      " 7   url               252 non-null    object \n",
      " 8   sku               252 non-null    object \n",
      " 9   name              251 non-null    object \n",
      " 10  description       250 non-null    object \n",
      " 11  price             252 non-null    float64\n",
      " 12  currency          252 non-null    object \n",
      " 13  scraped_at        252 non-null    object \n",
      " 14  terms             252 non-null    object \n",
      " 15  section           252 non-null    object \n",
      "dtypes: float64(1), int64(2), object(13)\n",
      "memory usage: 31.6+ KB\n"
     ]
    }
   ],
   "source": [
    "df.info() #exploration"
   ]
  },
  {
   "cell_type": "code",
   "execution_count": 48,
   "id": "e0d755f8-07fb-474b-9f4e-cfc160d1ff46",
   "metadata": {},
   "outputs": [
    {
     "data": {
      "text/html": [
       "<div>\n",
       "<style scoped>\n",
       "    .dataframe tbody tr th:only-of-type {\n",
       "        vertical-align: middle;\n",
       "    }\n",
       "\n",
       "    .dataframe tbody tr th {\n",
       "        vertical-align: top;\n",
       "    }\n",
       "\n",
       "    .dataframe thead th {\n",
       "        text-align: right;\n",
       "    }\n",
       "</style>\n",
       "<table border=\"1\" class=\"dataframe\">\n",
       "  <thead>\n",
       "    <tr style=\"text-align: right;\">\n",
       "      <th></th>\n",
       "      <th>Product ID</th>\n",
       "      <th>Sales Volume</th>\n",
       "      <th>price</th>\n",
       "    </tr>\n",
       "  </thead>\n",
       "  <tbody>\n",
       "    <tr>\n",
       "      <th>count</th>\n",
       "      <td>252.000000</td>\n",
       "      <td>252.000000</td>\n",
       "      <td>252.000000</td>\n",
       "    </tr>\n",
       "    <tr>\n",
       "      <th>mean</th>\n",
       "      <td>153370.503968</td>\n",
       "      <td>1823.702381</td>\n",
       "      <td>86.252540</td>\n",
       "    </tr>\n",
       "    <tr>\n",
       "      <th>std</th>\n",
       "      <td>26160.444549</td>\n",
       "      <td>697.703748</td>\n",
       "      <td>52.083205</td>\n",
       "    </tr>\n",
       "    <tr>\n",
       "      <th>min</th>\n",
       "      <td>110075.000000</td>\n",
       "      <td>529.000000</td>\n",
       "      <td>7.990000</td>\n",
       "    </tr>\n",
       "    <tr>\n",
       "      <th>25%</th>\n",
       "      <td>131053.750000</td>\n",
       "      <td>1243.000000</td>\n",
       "      <td>49.900000</td>\n",
       "    </tr>\n",
       "    <tr>\n",
       "      <th>50%</th>\n",
       "      <td>151681.500000</td>\n",
       "      <td>1839.500000</td>\n",
       "      <td>79.900000</td>\n",
       "    </tr>\n",
       "    <tr>\n",
       "      <th>75%</th>\n",
       "      <td>175669.750000</td>\n",
       "      <td>2398.750000</td>\n",
       "      <td>109.000000</td>\n",
       "    </tr>\n",
       "    <tr>\n",
       "      <th>max</th>\n",
       "      <td>199631.000000</td>\n",
       "      <td>2989.000000</td>\n",
       "      <td>439.000000</td>\n",
       "    </tr>\n",
       "  </tbody>\n",
       "</table>\n",
       "</div>"
      ],
      "text/plain": [
       "          Product ID  Sales Volume       price\n",
       "count     252.000000    252.000000  252.000000\n",
       "mean   153370.503968   1823.702381   86.252540\n",
       "std     26160.444549    697.703748   52.083205\n",
       "min    110075.000000    529.000000    7.990000\n",
       "25%    131053.750000   1243.000000   49.900000\n",
       "50%    151681.500000   1839.500000   79.900000\n",
       "75%    175669.750000   2398.750000  109.000000\n",
       "max    199631.000000   2989.000000  439.000000"
      ]
     },
     "execution_count": 48,
     "metadata": {},
     "output_type": "execute_result"
    }
   ],
   "source": [
    "df.describe() #exploration"
   ]
  },
  {
   "cell_type": "code",
   "execution_count": 46,
   "id": "4ede8bbb-8ff5-414f-b50a-882e0d10b266",
   "metadata": {},
   "outputs": [
    {
     "data": {
      "text/plain": [
       "Product ID          0\n",
       "Product Position    0\n",
       "Promotion           0\n",
       "Product Category    0\n",
       "Seasonal            0\n",
       "Sales Volume        0\n",
       "brand               0\n",
       "url                 0\n",
       "sku                 0\n",
       "name                1\n",
       "description         2\n",
       "price               0\n",
       "currency            0\n",
       "scraped_at          0\n",
       "terms               0\n",
       "section             0\n",
       "dtype: int64"
      ]
     },
     "execution_count": 46,
     "metadata": {},
     "output_type": "execute_result"
    }
   ],
   "source": [
    "df.isnull().sum() #checking missing values "
   ]
  },
  {
   "cell_type": "code",
   "execution_count": 42,
   "id": "9f5ff194-ffe5-4c67-8dbd-5f46fb00739c",
   "metadata": {},
   "outputs": [
    {
     "data": {
      "text/html": [
       "<div>\n",
       "<style scoped>\n",
       "    .dataframe tbody tr th:only-of-type {\n",
       "        vertical-align: middle;\n",
       "    }\n",
       "\n",
       "    .dataframe tbody tr th {\n",
       "        vertical-align: top;\n",
       "    }\n",
       "\n",
       "    .dataframe thead th {\n",
       "        text-align: right;\n",
       "    }\n",
       "</style>\n",
       "<table border=\"1\" class=\"dataframe\">\n",
       "  <thead>\n",
       "    <tr style=\"text-align: right;\">\n",
       "      <th></th>\n",
       "      <th>Product ID</th>\n",
       "      <th>Product Position</th>\n",
       "      <th>Promotion</th>\n",
       "      <th>Product Category</th>\n",
       "      <th>Seasonal</th>\n",
       "      <th>Sales Volume</th>\n",
       "      <th>brand</th>\n",
       "      <th>url</th>\n",
       "      <th>sku</th>\n",
       "      <th>name</th>\n",
       "      <th>description</th>\n",
       "      <th>price</th>\n",
       "      <th>currency</th>\n",
       "      <th>scraped_at</th>\n",
       "      <th>terms</th>\n",
       "      <th>section</th>\n",
       "    </tr>\n",
       "  </thead>\n",
       "  <tbody>\n",
       "    <tr>\n",
       "      <th>72</th>\n",
       "      <td>173576</td>\n",
       "      <td>End-cap</td>\n",
       "      <td>Yes</td>\n",
       "      <td>Clothing</td>\n",
       "      <td>No</td>\n",
       "      <td>1838</td>\n",
       "      <td>Zara</td>\n",
       "      <td>https://www.zara.com/us/en/-p04310461.html</td>\n",
       "      <td>336378923-700-2</td>\n",
       "      <td>NaN</td>\n",
       "      <td>NaN</td>\n",
       "      <td>129.0</td>\n",
       "      <td>USD</td>\n",
       "      <td>2024-02-19T08:50:54.476057</td>\n",
       "      <td>jackets</td>\n",
       "      <td>MAN</td>\n",
       "    </tr>\n",
       "  </tbody>\n",
       "</table>\n",
       "</div>"
      ],
      "text/plain": [
       "    Product ID Product Position Promotion Product Category Seasonal  \\\n",
       "72      173576          End-cap       Yes         Clothing       No   \n",
       "\n",
       "    Sales Volume brand                                         url  \\\n",
       "72          1838  Zara  https://www.zara.com/us/en/-p04310461.html   \n",
       "\n",
       "                sku name description  price currency  \\\n",
       "72  336378923-700-2  NaN         NaN  129.0      USD   \n",
       "\n",
       "                    scraped_at    terms section  \n",
       "72  2024-02-19T08:50:54.476057  jackets     MAN  "
      ]
     },
     "execution_count": 42,
     "metadata": {},
     "output_type": "execute_result"
    }
   ],
   "source": [
    "df[df['name'].isnull()] #To check the rows where a specific column has null (missing) value"
   ]
  },
  {
   "cell_type": "code",
   "execution_count": 15,
   "id": "1b0fe6c7-0fcc-4871-bb49-c05ddef11979",
   "metadata": {},
   "outputs": [
    {
     "data": {
      "text/html": [
       "<div>\n",
       "<style scoped>\n",
       "    .dataframe tbody tr th:only-of-type {\n",
       "        vertical-align: middle;\n",
       "    }\n",
       "\n",
       "    .dataframe tbody tr th {\n",
       "        vertical-align: top;\n",
       "    }\n",
       "\n",
       "    .dataframe thead th {\n",
       "        text-align: right;\n",
       "    }\n",
       "</style>\n",
       "<table border=\"1\" class=\"dataframe\">\n",
       "  <thead>\n",
       "    <tr style=\"text-align: right;\">\n",
       "      <th></th>\n",
       "      <th>Product ID</th>\n",
       "      <th>Product Position</th>\n",
       "      <th>Promotion</th>\n",
       "      <th>Product Category</th>\n",
       "      <th>Seasonal</th>\n",
       "      <th>Sales Volume</th>\n",
       "      <th>brand</th>\n",
       "      <th>url</th>\n",
       "      <th>sku</th>\n",
       "      <th>name</th>\n",
       "      <th>description</th>\n",
       "      <th>price</th>\n",
       "      <th>currency</th>\n",
       "      <th>scraped_at</th>\n",
       "      <th>terms</th>\n",
       "      <th>section</th>\n",
       "    </tr>\n",
       "  </thead>\n",
       "  <tbody>\n",
       "    <tr>\n",
       "      <th>60</th>\n",
       "      <td>151925</td>\n",
       "      <td>End-cap</td>\n",
       "      <td>Yes</td>\n",
       "      <td>Clothing</td>\n",
       "      <td>Yes</td>\n",
       "      <td>2179</td>\n",
       "      <td>Zara</td>\n",
       "      <td>https://www.zara.com/us/en/vintage-effect-leat...</td>\n",
       "      <td>320774184-800-97</td>\n",
       "      <td>VINTAGE EFFECT LEATHER BOMBER JACKET</td>\n",
       "      <td>NaN</td>\n",
       "      <td>299.0</td>\n",
       "      <td>USD</td>\n",
       "      <td>2024-02-19T08:50:43.543555</td>\n",
       "      <td>jackets</td>\n",
       "      <td>MAN</td>\n",
       "    </tr>\n",
       "    <tr>\n",
       "      <th>72</th>\n",
       "      <td>173576</td>\n",
       "      <td>End-cap</td>\n",
       "      <td>Yes</td>\n",
       "      <td>Clothing</td>\n",
       "      <td>No</td>\n",
       "      <td>1838</td>\n",
       "      <td>Zara</td>\n",
       "      <td>https://www.zara.com/us/en/-p04310461.html</td>\n",
       "      <td>336378923-700-2</td>\n",
       "      <td>NaN</td>\n",
       "      <td>NaN</td>\n",
       "      <td>129.0</td>\n",
       "      <td>USD</td>\n",
       "      <td>2024-02-19T08:50:54.476057</td>\n",
       "      <td>jackets</td>\n",
       "      <td>MAN</td>\n",
       "    </tr>\n",
       "  </tbody>\n",
       "</table>\n",
       "</div>"
      ],
      "text/plain": [
       "    Product ID Product Position Promotion Product Category Seasonal  \\\n",
       "60      151925          End-cap       Yes         Clothing      Yes   \n",
       "72      173576          End-cap       Yes         Clothing       No   \n",
       "\n",
       "    Sales Volume brand                                                url  \\\n",
       "60          2179  Zara  https://www.zara.com/us/en/vintage-effect-leat...   \n",
       "72          1838  Zara         https://www.zara.com/us/en/-p04310461.html   \n",
       "\n",
       "                 sku                                  name description  price  \\\n",
       "60  320774184-800-97  VINTAGE EFFECT LEATHER BOMBER JACKET         NaN  299.0   \n",
       "72   336378923-700-2                                   NaN         NaN  129.0   \n",
       "\n",
       "   currency                  scraped_at    terms section  \n",
       "60      USD  2024-02-19T08:50:43.543555  jackets     MAN  \n",
       "72      USD  2024-02-19T08:50:54.476057  jackets     MAN  "
      ]
     },
     "execution_count": 15,
     "metadata": {},
     "output_type": "execute_result"
    }
   ],
   "source": [
    "df[df['description'].isnull()]"
   ]
  },
  {
   "cell_type": "code",
   "execution_count": 50,
   "id": "5b9d9eee-30bf-4d28-8b47-df91b8521f33",
   "metadata": {},
   "outputs": [
    {
     "data": {
      "text/plain": [
       "Index(['Product ID', 'Product Position', 'Promotion', 'Product Category',\n",
       "       'Seasonal', 'Sales Volume', 'brand', 'url', 'sku', 'name',\n",
       "       'description', 'price', 'currency', 'scraped_at', 'terms', 'section'],\n",
       "      dtype='object')"
      ]
     },
     "execution_count": 50,
     "metadata": {},
     "output_type": "execute_result"
    }
   ],
   "source": [
    "#decided the columns to be kept for the analysis\n",
    "df.columns"
   ]
  },
  {
   "cell_type": "code",
   "execution_count": 19,
   "id": "9414bf50-e231-45fc-9e34-3200b2f2708c",
   "metadata": {},
   "outputs": [
    {
     "data": {
      "text/plain": [
       "array(['USD'], dtype=object)"
      ]
     },
     "execution_count": 19,
     "metadata": {},
     "output_type": "execute_result"
    }
   ],
   "source": [
    "df['currency'].unique() #so i can drop it cuz all prices are in USD"
   ]
  },
  {
   "cell_type": "code",
   "execution_count": 21,
   "id": "7bb55432-1d17-4b26-9d98-25b48d07a781",
   "metadata": {},
   "outputs": [
    {
     "data": {
      "text/plain": [
       "array(['jackets', 'shoes', 'sweaters', 'jeans', 't-shirts'], dtype=object)"
      ]
     },
     "execution_count": 21,
     "metadata": {},
     "output_type": "execute_result"
    }
   ],
   "source": [
    "df['terms'].unique() #so keep it cuz it can be grouped \n",
    "\n",
    "#currnucy was removed cuz only one currency is there when checked the how many currncy is there\n"
   ]
  },
  {
   "cell_type": "code",
   "execution_count": 52,
   "id": "1094ef75-f0db-4a20-b644-67989a2bfd6d",
   "metadata": {},
   "outputs": [
    {
     "data": {
      "text/plain": [
       "scraped_at\n",
       "2024-02-19T09:10:35.068338    5562\n",
       "2024-02-19T09:10:37.484871    5557\n",
       "2024-02-19T09:10:45.009106    5435\n",
       "2024-02-19T09:10:32.534246    5394\n",
       "2024-02-19T09:10:43.379668    5114\n",
       "2024-02-19T09:10:36.839166    4791\n",
       "2024-02-19T09:10:39.911179    4759\n",
       "2024-02-19T09:10:42.593244    4681\n",
       "2024-02-19T09:10:40.681401    3861\n",
       "2024-02-19T09:10:31.877971    3857\n",
       "Name: Sales Volume, dtype: int64"
      ]
     },
     "execution_count": 52,
     "metadata": {},
     "output_type": "execute_result"
    }
   ],
   "source": [
    "df.groupby('scraped_at')['Sales Volume'].sum().sort_values(ascending=False).head(10) "
   ]
  },
  {
   "cell_type": "code",
   "execution_count": 102,
   "id": "3adbfe9f-6c9c-4601-95a5-106f3ca8dd82",
   "metadata": {},
   "outputs": [],
   "source": [
    "zaradf = df[['Product ID','Product Position','Promotion', 'Product Category',\n",
    "       'Seasonal', 'Sales Volume', 'price', 'scraped_at', 'terms', 'section']].copy() #to avoid setting copy warning \n"
   ]
  },
  {
   "cell_type": "code",
   "execution_count": 104,
   "id": "3f864a41-1ce3-43b6-8cee-7bc9467e120c",
   "metadata": {},
   "outputs": [
    {
     "data": {
      "text/html": [
       "<div>\n",
       "<style scoped>\n",
       "    .dataframe tbody tr th:only-of-type {\n",
       "        vertical-align: middle;\n",
       "    }\n",
       "\n",
       "    .dataframe tbody tr th {\n",
       "        vertical-align: top;\n",
       "    }\n",
       "\n",
       "    .dataframe thead th {\n",
       "        text-align: right;\n",
       "    }\n",
       "</style>\n",
       "<table border=\"1\" class=\"dataframe\">\n",
       "  <thead>\n",
       "    <tr style=\"text-align: right;\">\n",
       "      <th></th>\n",
       "      <th>Product ID</th>\n",
       "      <th>Product Position</th>\n",
       "      <th>Promotion</th>\n",
       "      <th>Product Category</th>\n",
       "      <th>Seasonal</th>\n",
       "      <th>Sales Volume</th>\n",
       "      <th>price</th>\n",
       "      <th>scraped_at</th>\n",
       "      <th>terms</th>\n",
       "      <th>section</th>\n",
       "    </tr>\n",
       "  </thead>\n",
       "  <tbody>\n",
       "    <tr>\n",
       "      <th>0</th>\n",
       "      <td>185102</td>\n",
       "      <td>Aisle</td>\n",
       "      <td>No</td>\n",
       "      <td>Clothing</td>\n",
       "      <td>No</td>\n",
       "      <td>2823</td>\n",
       "      <td>19.99</td>\n",
       "      <td>2024-02-19T08:50:05.654618</td>\n",
       "      <td>jackets</td>\n",
       "      <td>MAN</td>\n",
       "    </tr>\n",
       "    <tr>\n",
       "      <th>1</th>\n",
       "      <td>188771</td>\n",
       "      <td>Aisle</td>\n",
       "      <td>No</td>\n",
       "      <td>Clothing</td>\n",
       "      <td>No</td>\n",
       "      <td>654</td>\n",
       "      <td>169.00</td>\n",
       "      <td>2024-02-19T08:50:06.590930</td>\n",
       "      <td>jackets</td>\n",
       "      <td>MAN</td>\n",
       "    </tr>\n",
       "    <tr>\n",
       "      <th>2</th>\n",
       "      <td>180176</td>\n",
       "      <td>End-cap</td>\n",
       "      <td>Yes</td>\n",
       "      <td>Clothing</td>\n",
       "      <td>Yes</td>\n",
       "      <td>2220</td>\n",
       "      <td>129.00</td>\n",
       "      <td>2024-02-19T08:50:07.301419</td>\n",
       "      <td>jackets</td>\n",
       "      <td>MAN</td>\n",
       "    </tr>\n",
       "    <tr>\n",
       "      <th>3</th>\n",
       "      <td>112917</td>\n",
       "      <td>Aisle</td>\n",
       "      <td>Yes</td>\n",
       "      <td>Clothing</td>\n",
       "      <td>Yes</td>\n",
       "      <td>1568</td>\n",
       "      <td>129.00</td>\n",
       "      <td>2024-02-19T08:50:07.882922</td>\n",
       "      <td>jackets</td>\n",
       "      <td>MAN</td>\n",
       "    </tr>\n",
       "    <tr>\n",
       "      <th>4</th>\n",
       "      <td>192936</td>\n",
       "      <td>End-cap</td>\n",
       "      <td>No</td>\n",
       "      <td>Clothing</td>\n",
       "      <td>Yes</td>\n",
       "      <td>2942</td>\n",
       "      <td>139.00</td>\n",
       "      <td>2024-02-19T08:50:08.453847</td>\n",
       "      <td>jackets</td>\n",
       "      <td>MAN</td>\n",
       "    </tr>\n",
       "  </tbody>\n",
       "</table>\n",
       "</div>"
      ],
      "text/plain": [
       "   Product ID Product Position Promotion Product Category Seasonal  \\\n",
       "0      185102            Aisle        No         Clothing       No   \n",
       "1      188771            Aisle        No         Clothing       No   \n",
       "2      180176          End-cap       Yes         Clothing      Yes   \n",
       "3      112917            Aisle       Yes         Clothing      Yes   \n",
       "4      192936          End-cap        No         Clothing      Yes   \n",
       "\n",
       "   Sales Volume   price                  scraped_at    terms section  \n",
       "0          2823   19.99  2024-02-19T08:50:05.654618  jackets     MAN  \n",
       "1           654  169.00  2024-02-19T08:50:06.590930  jackets     MAN  \n",
       "2          2220  129.00  2024-02-19T08:50:07.301419  jackets     MAN  \n",
       "3          1568  129.00  2024-02-19T08:50:07.882922  jackets     MAN  \n",
       "4          2942  139.00  2024-02-19T08:50:08.453847  jackets     MAN  "
      ]
     },
     "execution_count": 104,
     "metadata": {},
     "output_type": "execute_result"
    }
   ],
   "source": [
    "zaradf.head() #to check"
   ]
  },
  {
   "cell_type": "code",
   "execution_count": 58,
   "id": "8cee6ceb-c38a-4705-8675-5f3ca437f21a",
   "metadata": {},
   "outputs": [
    {
     "data": {
      "text/plain": [
       "False"
      ]
     },
     "execution_count": 58,
     "metadata": {},
     "output_type": "execute_result"
    }
   ],
   "source": [
    "zaradf.duplicated().any() #no duplicate "
   ]
  },
  {
   "cell_type": "code",
   "execution_count": 31,
   "id": "2a4cecad-d9b0-43be-8577-15c0061141e6",
   "metadata": {},
   "outputs": [],
   "source": [
    "#now change the column format for scraped_at and extract new time series column, so convert to datetime first then extract what i need.\n",
    "#enabling time series analysis trend and charts"
   ]
  },
  {
   "cell_type": "code",
   "execution_count": 106,
   "id": "2b8b0d0e-f6e9-4159-aef8-1cb761ec1f8f",
   "metadata": {},
   "outputs": [],
   "source": [
    "# Step 1: Convert 'scraped_at' to datetime\n",
    "zaradf['scraped_at'] = pd.to_datetime(zaradf['scraped_at'])\n",
    "\n",
    "\n",
    "# Step 2: Now safely extract datetime parts\n",
    "zaradf['hour'] = zaradf['scraped_at'].dt.hour\n",
    "zaradf['day'] = zaradf['scraped_at'].dt.day\n",
    "zaradf['weekday'] = zaradf['scraped_at'].dt.day_name()\n",
    "zaradf['month'] = zaradf['scraped_at'].dt.month\n",
    "zaradf['year'] = zaradf['scraped_at'].dt.year\n"
   ]
  },
  {
   "cell_type": "code",
   "execution_count": 119,
   "id": "76ee378f-b3e6-48ae-b466-ceb3c837b607",
   "metadata": {},
   "outputs": [
    {
     "data": {
      "text/html": [
       "<div>\n",
       "<style scoped>\n",
       "    .dataframe tbody tr th:only-of-type {\n",
       "        vertical-align: middle;\n",
       "    }\n",
       "\n",
       "    .dataframe tbody tr th {\n",
       "        vertical-align: top;\n",
       "    }\n",
       "\n",
       "    .dataframe thead th {\n",
       "        text-align: right;\n",
       "    }\n",
       "</style>\n",
       "<table border=\"1\" class=\"dataframe\">\n",
       "  <thead>\n",
       "    <tr style=\"text-align: right;\">\n",
       "      <th></th>\n",
       "      <th>Product ID</th>\n",
       "      <th>Product Position</th>\n",
       "      <th>Promotion</th>\n",
       "      <th>Product Category</th>\n",
       "      <th>Seasonal</th>\n",
       "      <th>Sales Volume</th>\n",
       "      <th>price</th>\n",
       "      <th>scraped_at</th>\n",
       "      <th>terms</th>\n",
       "      <th>section</th>\n",
       "    </tr>\n",
       "  </thead>\n",
       "  <tbody>\n",
       "    <tr>\n",
       "      <th>0</th>\n",
       "      <td>185102</td>\n",
       "      <td>Aisle</td>\n",
       "      <td>No</td>\n",
       "      <td>Clothing</td>\n",
       "      <td>No</td>\n",
       "      <td>2823</td>\n",
       "      <td>19.99</td>\n",
       "      <td>2024-02-19 08:50:05.654618</td>\n",
       "      <td>jackets</td>\n",
       "      <td>MAN</td>\n",
       "    </tr>\n",
       "    <tr>\n",
       "      <th>1</th>\n",
       "      <td>188771</td>\n",
       "      <td>Aisle</td>\n",
       "      <td>No</td>\n",
       "      <td>Clothing</td>\n",
       "      <td>No</td>\n",
       "      <td>654</td>\n",
       "      <td>169.00</td>\n",
       "      <td>2024-02-19 08:50:06.590930</td>\n",
       "      <td>jackets</td>\n",
       "      <td>MAN</td>\n",
       "    </tr>\n",
       "    <tr>\n",
       "      <th>2</th>\n",
       "      <td>180176</td>\n",
       "      <td>End-cap</td>\n",
       "      <td>Yes</td>\n",
       "      <td>Clothing</td>\n",
       "      <td>Yes</td>\n",
       "      <td>2220</td>\n",
       "      <td>129.00</td>\n",
       "      <td>2024-02-19 08:50:07.301419</td>\n",
       "      <td>jackets</td>\n",
       "      <td>MAN</td>\n",
       "    </tr>\n",
       "    <tr>\n",
       "      <th>3</th>\n",
       "      <td>112917</td>\n",
       "      <td>Aisle</td>\n",
       "      <td>Yes</td>\n",
       "      <td>Clothing</td>\n",
       "      <td>Yes</td>\n",
       "      <td>1568</td>\n",
       "      <td>129.00</td>\n",
       "      <td>2024-02-19 08:50:07.882922</td>\n",
       "      <td>jackets</td>\n",
       "      <td>MAN</td>\n",
       "    </tr>\n",
       "    <tr>\n",
       "      <th>4</th>\n",
       "      <td>192936</td>\n",
       "      <td>End-cap</td>\n",
       "      <td>No</td>\n",
       "      <td>Clothing</td>\n",
       "      <td>Yes</td>\n",
       "      <td>2942</td>\n",
       "      <td>139.00</td>\n",
       "      <td>2024-02-19 08:50:08.453847</td>\n",
       "      <td>jackets</td>\n",
       "      <td>MAN</td>\n",
       "    </tr>\n",
       "  </tbody>\n",
       "</table>\n",
       "</div>"
      ],
      "text/plain": [
       "   Product ID Product Position Promotion Product Category Seasonal  \\\n",
       "0      185102            Aisle        No         Clothing       No   \n",
       "1      188771            Aisle        No         Clothing       No   \n",
       "2      180176          End-cap       Yes         Clothing      Yes   \n",
       "3      112917            Aisle       Yes         Clothing      Yes   \n",
       "4      192936          End-cap        No         Clothing      Yes   \n",
       "\n",
       "   Sales Volume   price                  scraped_at    terms section  \n",
       "0          2823   19.99  2024-02-19 08:50:05.654618  jackets     MAN  \n",
       "1           654  169.00  2024-02-19 08:50:06.590930  jackets     MAN  \n",
       "2          2220  129.00  2024-02-19 08:50:07.301419  jackets     MAN  \n",
       "3          1568  129.00  2024-02-19 08:50:07.882922  jackets     MAN  \n",
       "4          2942  139.00  2024-02-19 08:50:08.453847  jackets     MAN  "
      ]
     },
     "execution_count": 119,
     "metadata": {},
     "output_type": "execute_result"
    }
   ],
   "source": [
    "zaradf.head()# to check"
   ]
  },
  {
   "cell_type": "code",
   "execution_count": 108,
   "id": "227eebb7-0e67-4b1a-805f-8e197f313fd1",
   "metadata": {},
   "outputs": [],
   "source": [
    "zaradf.drop(columns='scraped_at',inplace=True) #drop the scraped colmn no need for now"
   ]
  },
  {
   "cell_type": "code",
   "execution_count": 110,
   "id": "d7e63af6-186d-4fd7-8666-52b72fbe7e7b",
   "metadata": {},
   "outputs": [
    {
     "data": {
      "text/html": [
       "<div>\n",
       "<style scoped>\n",
       "    .dataframe tbody tr th:only-of-type {\n",
       "        vertical-align: middle;\n",
       "    }\n",
       "\n",
       "    .dataframe tbody tr th {\n",
       "        vertical-align: top;\n",
       "    }\n",
       "\n",
       "    .dataframe thead th {\n",
       "        text-align: right;\n",
       "    }\n",
       "</style>\n",
       "<table border=\"1\" class=\"dataframe\">\n",
       "  <thead>\n",
       "    <tr style=\"text-align: right;\">\n",
       "      <th></th>\n",
       "      <th>Product ID</th>\n",
       "      <th>Product Position</th>\n",
       "      <th>Promotion</th>\n",
       "      <th>Product Category</th>\n",
       "      <th>Seasonal</th>\n",
       "      <th>Sales Volume</th>\n",
       "      <th>price</th>\n",
       "      <th>terms</th>\n",
       "      <th>section</th>\n",
       "      <th>hour</th>\n",
       "      <th>day</th>\n",
       "      <th>weekday</th>\n",
       "      <th>month</th>\n",
       "      <th>year</th>\n",
       "    </tr>\n",
       "  </thead>\n",
       "  <tbody>\n",
       "    <tr>\n",
       "      <th>0</th>\n",
       "      <td>185102</td>\n",
       "      <td>Aisle</td>\n",
       "      <td>No</td>\n",
       "      <td>Clothing</td>\n",
       "      <td>No</td>\n",
       "      <td>2823</td>\n",
       "      <td>19.99</td>\n",
       "      <td>jackets</td>\n",
       "      <td>MAN</td>\n",
       "      <td>8</td>\n",
       "      <td>19</td>\n",
       "      <td>Monday</td>\n",
       "      <td>2</td>\n",
       "      <td>2024</td>\n",
       "    </tr>\n",
       "    <tr>\n",
       "      <th>1</th>\n",
       "      <td>188771</td>\n",
       "      <td>Aisle</td>\n",
       "      <td>No</td>\n",
       "      <td>Clothing</td>\n",
       "      <td>No</td>\n",
       "      <td>654</td>\n",
       "      <td>169.00</td>\n",
       "      <td>jackets</td>\n",
       "      <td>MAN</td>\n",
       "      <td>8</td>\n",
       "      <td>19</td>\n",
       "      <td>Monday</td>\n",
       "      <td>2</td>\n",
       "      <td>2024</td>\n",
       "    </tr>\n",
       "    <tr>\n",
       "      <th>2</th>\n",
       "      <td>180176</td>\n",
       "      <td>End-cap</td>\n",
       "      <td>Yes</td>\n",
       "      <td>Clothing</td>\n",
       "      <td>Yes</td>\n",
       "      <td>2220</td>\n",
       "      <td>129.00</td>\n",
       "      <td>jackets</td>\n",
       "      <td>MAN</td>\n",
       "      <td>8</td>\n",
       "      <td>19</td>\n",
       "      <td>Monday</td>\n",
       "      <td>2</td>\n",
       "      <td>2024</td>\n",
       "    </tr>\n",
       "    <tr>\n",
       "      <th>3</th>\n",
       "      <td>112917</td>\n",
       "      <td>Aisle</td>\n",
       "      <td>Yes</td>\n",
       "      <td>Clothing</td>\n",
       "      <td>Yes</td>\n",
       "      <td>1568</td>\n",
       "      <td>129.00</td>\n",
       "      <td>jackets</td>\n",
       "      <td>MAN</td>\n",
       "      <td>8</td>\n",
       "      <td>19</td>\n",
       "      <td>Monday</td>\n",
       "      <td>2</td>\n",
       "      <td>2024</td>\n",
       "    </tr>\n",
       "    <tr>\n",
       "      <th>4</th>\n",
       "      <td>192936</td>\n",
       "      <td>End-cap</td>\n",
       "      <td>No</td>\n",
       "      <td>Clothing</td>\n",
       "      <td>Yes</td>\n",
       "      <td>2942</td>\n",
       "      <td>139.00</td>\n",
       "      <td>jackets</td>\n",
       "      <td>MAN</td>\n",
       "      <td>8</td>\n",
       "      <td>19</td>\n",
       "      <td>Monday</td>\n",
       "      <td>2</td>\n",
       "      <td>2024</td>\n",
       "    </tr>\n",
       "  </tbody>\n",
       "</table>\n",
       "</div>"
      ],
      "text/plain": [
       "   Product ID Product Position Promotion Product Category Seasonal  \\\n",
       "0      185102            Aisle        No         Clothing       No   \n",
       "1      188771            Aisle        No         Clothing       No   \n",
       "2      180176          End-cap       Yes         Clothing      Yes   \n",
       "3      112917            Aisle       Yes         Clothing      Yes   \n",
       "4      192936          End-cap        No         Clothing      Yes   \n",
       "\n",
       "   Sales Volume   price    terms section  hour  day weekday  month  year  \n",
       "0          2823   19.99  jackets     MAN     8   19  Monday      2  2024  \n",
       "1           654  169.00  jackets     MAN     8   19  Monday      2  2024  \n",
       "2          2220  129.00  jackets     MAN     8   19  Monday      2  2024  \n",
       "3          1568  129.00  jackets     MAN     8   19  Monday      2  2024  \n",
       "4          2942  139.00  jackets     MAN     8   19  Monday      2  2024  "
      ]
     },
     "execution_count": 110,
     "metadata": {},
     "output_type": "execute_result"
    }
   ],
   "source": [
    "zaradf.head() #to check"
   ]
  },
  {
   "cell_type": "code",
   "execution_count": 112,
   "id": "7e54c55f-eebf-4f98-a820-e1fcbaf70aa6",
   "metadata": {},
   "outputs": [
    {
     "data": {
      "text/plain": [
       "array(['Clothing'], dtype=object)"
      ]
     },
     "execution_count": 112,
     "metadata": {},
     "output_type": "execute_result"
    }
   ],
   "source": [
    "zaradf['Product Category'].unique() #so i can delete it cuz we only have one category that is clothing  "
   ]
  },
  {
   "cell_type": "code",
   "execution_count": 127,
   "id": "497e09c8-1803-457f-be93-18309c2917e8",
   "metadata": {},
   "outputs": [],
   "source": [
    "zaradf.drop(columns='Product Category',inplace=True)"
   ]
  },
  {
   "cell_type": "code",
   "execution_count": 73,
   "id": "1ebfa640-0eb0-4824-bde2-70be8dc31211",
   "metadata": {},
   "outputs": [
    {
     "data": {
      "text/html": [
       "<div>\n",
       "<style scoped>\n",
       "    .dataframe tbody tr th:only-of-type {\n",
       "        vertical-align: middle;\n",
       "    }\n",
       "\n",
       "    .dataframe tbody tr th {\n",
       "        vertical-align: top;\n",
       "    }\n",
       "\n",
       "    .dataframe thead th {\n",
       "        text-align: right;\n",
       "    }\n",
       "</style>\n",
       "<table border=\"1\" class=\"dataframe\">\n",
       "  <thead>\n",
       "    <tr style=\"text-align: right;\">\n",
       "      <th></th>\n",
       "      <th>Product ID</th>\n",
       "      <th>Product Position</th>\n",
       "      <th>Promotion</th>\n",
       "      <th>Seasonal</th>\n",
       "      <th>Sales Volume</th>\n",
       "      <th>price</th>\n",
       "      <th>terms</th>\n",
       "      <th>section</th>\n",
       "    </tr>\n",
       "  </thead>\n",
       "  <tbody>\n",
       "    <tr>\n",
       "      <th>0</th>\n",
       "      <td>185102</td>\n",
       "      <td>Aisle</td>\n",
       "      <td>No</td>\n",
       "      <td>No</td>\n",
       "      <td>2823</td>\n",
       "      <td>19.99</td>\n",
       "      <td>jackets</td>\n",
       "      <td>MAN</td>\n",
       "    </tr>\n",
       "    <tr>\n",
       "      <th>1</th>\n",
       "      <td>188771</td>\n",
       "      <td>Aisle</td>\n",
       "      <td>No</td>\n",
       "      <td>No</td>\n",
       "      <td>654</td>\n",
       "      <td>169.00</td>\n",
       "      <td>jackets</td>\n",
       "      <td>MAN</td>\n",
       "    </tr>\n",
       "    <tr>\n",
       "      <th>2</th>\n",
       "      <td>180176</td>\n",
       "      <td>End-cap</td>\n",
       "      <td>Yes</td>\n",
       "      <td>Yes</td>\n",
       "      <td>2220</td>\n",
       "      <td>129.00</td>\n",
       "      <td>jackets</td>\n",
       "      <td>MAN</td>\n",
       "    </tr>\n",
       "    <tr>\n",
       "      <th>3</th>\n",
       "      <td>112917</td>\n",
       "      <td>Aisle</td>\n",
       "      <td>Yes</td>\n",
       "      <td>Yes</td>\n",
       "      <td>1568</td>\n",
       "      <td>129.00</td>\n",
       "      <td>jackets</td>\n",
       "      <td>MAN</td>\n",
       "    </tr>\n",
       "    <tr>\n",
       "      <th>4</th>\n",
       "      <td>192936</td>\n",
       "      <td>End-cap</td>\n",
       "      <td>No</td>\n",
       "      <td>Yes</td>\n",
       "      <td>2942</td>\n",
       "      <td>139.00</td>\n",
       "      <td>jackets</td>\n",
       "      <td>MAN</td>\n",
       "    </tr>\n",
       "  </tbody>\n",
       "</table>\n",
       "</div>"
      ],
      "text/plain": [
       "   Product ID Product Position Promotion Seasonal  Sales Volume   price  \\\n",
       "0      185102            Aisle        No       No          2823   19.99   \n",
       "1      188771            Aisle        No       No           654  169.00   \n",
       "2      180176          End-cap       Yes      Yes          2220  129.00   \n",
       "3      112917            Aisle       Yes      Yes          1568  129.00   \n",
       "4      192936          End-cap        No      Yes          2942  139.00   \n",
       "\n",
       "     terms section  \n",
       "0  jackets     MAN  \n",
       "1  jackets     MAN  \n",
       "2  jackets     MAN  \n",
       "3  jackets     MAN  \n",
       "4  jackets     MAN  "
      ]
     },
     "execution_count": 73,
     "metadata": {},
     "output_type": "execute_result"
    }
   ],
   "source": [
    "zaradf.head()"
   ]
  },
  {
   "cell_type": "code",
   "execution_count": 72,
   "id": "1d1d7581-b625-4ebf-a0b4-a6e79bf19ea7",
   "metadata": {},
   "outputs": [
    {
     "data": {
      "text/plain": [
       "Product ID      False\n",
       "Promotion       False\n",
       "Seasonal        False\n",
       "Sales Volume    False\n",
       "price           False\n",
       "terms           False\n",
       "section         False\n",
       "dtype: bool"
      ]
     },
     "execution_count": 72,
     "metadata": {},
     "output_type": "execute_result"
    }
   ],
   "source": [
    "zaradf.isnull().any() #verify before visualiation"
   ]
  },
  {
   "cell_type": "code",
   "execution_count": 141,
   "id": "47243af2-2c4e-4d39-95e3-57e8a039ea99",
   "metadata": {},
   "outputs": [
    {
     "data": {
      "text/plain": [
       "Product ID            int64\n",
       "Product Position     object\n",
       "Promotion            object\n",
       "Seasonal             object\n",
       "Sales Volume          int64\n",
       "price               float64\n",
       "terms                object\n",
       "section              object\n",
       "dtype: object"
      ]
     },
     "execution_count": 141,
     "metadata": {},
     "output_type": "execute_result"
    }
   ],
   "source": [
    "zaradf.dtypes"
   ]
  },
  {
   "cell_type": "code",
   "execution_count": 145,
   "id": "65f76587-c53b-4633-86da-0fbf1a09368c",
   "metadata": {},
   "outputs": [],
   "source": [
    "#standarize the text in all the columns by capitalizing first letter using for loop/\n",
    "# str.lower(): converts to lowercase. - str.strip(): removes extra spaces.\n",
    "\n",
    "for col in zaradf.select_dtypes(include='object'):\n",
    "    zaradf[col] = zaradf[col].str.strip().str.title()\n",
    "\n"
   ]
  },
  {
   "cell_type": "code",
   "execution_count": 137,
   "id": "9fbab3af-2dd2-4f66-a4c4-5a7493bc7f40",
   "metadata": {},
   "outputs": [
    {
     "data": {
      "text/html": [
       "<div>\n",
       "<style scoped>\n",
       "    .dataframe tbody tr th:only-of-type {\n",
       "        vertical-align: middle;\n",
       "    }\n",
       "\n",
       "    .dataframe tbody tr th {\n",
       "        vertical-align: top;\n",
       "    }\n",
       "\n",
       "    .dataframe thead th {\n",
       "        text-align: right;\n",
       "    }\n",
       "</style>\n",
       "<table border=\"1\" class=\"dataframe\">\n",
       "  <thead>\n",
       "    <tr style=\"text-align: right;\">\n",
       "      <th></th>\n",
       "      <th>Product ID</th>\n",
       "      <th>Product Position</th>\n",
       "      <th>Promotion</th>\n",
       "      <th>Seasonal</th>\n",
       "      <th>Sales Volume</th>\n",
       "      <th>price</th>\n",
       "      <th>terms</th>\n",
       "      <th>section</th>\n",
       "    </tr>\n",
       "  </thead>\n",
       "  <tbody>\n",
       "    <tr>\n",
       "      <th>0</th>\n",
       "      <td>185102</td>\n",
       "      <td>Aisle</td>\n",
       "      <td>No</td>\n",
       "      <td>No</td>\n",
       "      <td>2823</td>\n",
       "      <td>19.99</td>\n",
       "      <td>Jackets</td>\n",
       "      <td>Man</td>\n",
       "    </tr>\n",
       "    <tr>\n",
       "      <th>1</th>\n",
       "      <td>188771</td>\n",
       "      <td>Aisle</td>\n",
       "      <td>No</td>\n",
       "      <td>No</td>\n",
       "      <td>654</td>\n",
       "      <td>169.00</td>\n",
       "      <td>Jackets</td>\n",
       "      <td>Man</td>\n",
       "    </tr>\n",
       "    <tr>\n",
       "      <th>2</th>\n",
       "      <td>180176</td>\n",
       "      <td>End-Cap</td>\n",
       "      <td>Yes</td>\n",
       "      <td>Yes</td>\n",
       "      <td>2220</td>\n",
       "      <td>129.00</td>\n",
       "      <td>Jackets</td>\n",
       "      <td>Man</td>\n",
       "    </tr>\n",
       "    <tr>\n",
       "      <th>3</th>\n",
       "      <td>112917</td>\n",
       "      <td>Aisle</td>\n",
       "      <td>Yes</td>\n",
       "      <td>Yes</td>\n",
       "      <td>1568</td>\n",
       "      <td>129.00</td>\n",
       "      <td>Jackets</td>\n",
       "      <td>Man</td>\n",
       "    </tr>\n",
       "    <tr>\n",
       "      <th>4</th>\n",
       "      <td>192936</td>\n",
       "      <td>End-Cap</td>\n",
       "      <td>No</td>\n",
       "      <td>Yes</td>\n",
       "      <td>2942</td>\n",
       "      <td>139.00</td>\n",
       "      <td>Jackets</td>\n",
       "      <td>Man</td>\n",
       "    </tr>\n",
       "  </tbody>\n",
       "</table>\n",
       "</div>"
      ],
      "text/plain": [
       "   Product ID Product Position Promotion Seasonal  Sales Volume   price  \\\n",
       "0      185102            Aisle        No       No          2823   19.99   \n",
       "1      188771            Aisle        No       No           654  169.00   \n",
       "2      180176          End-Cap       Yes      Yes          2220  129.00   \n",
       "3      112917            Aisle       Yes      Yes          1568  129.00   \n",
       "4      192936          End-Cap        No      Yes          2942  139.00   \n",
       "\n",
       "     terms section  \n",
       "0  Jackets     Man  \n",
       "1  Jackets     Man  \n",
       "2  Jackets     Man  \n",
       "3  Jackets     Man  \n",
       "4  Jackets     Man  "
      ]
     },
     "execution_count": 137,
     "metadata": {},
     "output_type": "execute_result"
    }
   ],
   "source": [
    "zaradf.head()"
   ]
  },
  {
   "cell_type": "markdown",
   "id": "af64e618-9478-4283-a025-6ac83e70174c",
   "metadata": {},
   "source": [
    "### Price Analysis:"
   ]
  },
  {
   "cell_type": "code",
   "execution_count": 147,
   "id": "6fb1af8a-318b-45bf-8dc2-335e4b3b5028",
   "metadata": {},
   "outputs": [
    {
     "data": {
      "image/png": "[encoded data removed]",
      "text/plain": [
       "<Figure size 640x480 with 1 Axes>"
      ]
     },
     "metadata": {},
     "output_type": "display_data"
    }
   ],
   "source": [
    "import seaborn as sns\n",
    "import matplotlib.pyplot as plt\n",
    "\n",
    "sns.boxplot(x=zaradf['price'])\n",
    "plt.title('Price Outlier Check')\n",
    "plt.show()\n"
   ]
  },
  {
   "cell_type": "code",
   "execution_count": 118,
   "id": "fde9d7c2-8409-4eb0-b6a0-61354e16ed07",
   "metadata": {},
   "outputs": [
    {
     "data": {
      "text/html": [
       "<div>\n",
       "<style scoped>\n",
       "    .dataframe tbody tr th:only-of-type {\n",
       "        vertical-align: middle;\n",
       "    }\n",
       "\n",
       "    .dataframe tbody tr th {\n",
       "        vertical-align: top;\n",
       "    }\n",
       "\n",
       "    .dataframe thead th {\n",
       "        text-align: right;\n",
       "    }\n",
       "</style>\n",
       "<table border=\"1\" class=\"dataframe\">\n",
       "  <thead>\n",
       "    <tr style=\"text-align: right;\">\n",
       "      <th></th>\n",
       "      <th>Product ID</th>\n",
       "      <th>Product Position</th>\n",
       "      <th>Promotion</th>\n",
       "      <th>Product Category</th>\n",
       "      <th>Seasonal</th>\n",
       "      <th>Sales Volume</th>\n",
       "      <th>brand</th>\n",
       "      <th>url</th>\n",
       "      <th>sku</th>\n",
       "      <th>name</th>\n",
       "      <th>description</th>\n",
       "      <th>price</th>\n",
       "      <th>currency</th>\n",
       "      <th>scraped_at</th>\n",
       "      <th>terms</th>\n",
       "      <th>section</th>\n",
       "    </tr>\n",
       "  </thead>\n",
       "  <tbody>\n",
       "    <tr>\n",
       "      <th>13</th>\n",
       "      <td>151396</td>\n",
       "      <td>Front of Store</td>\n",
       "      <td>Yes</td>\n",
       "      <td>Clothing</td>\n",
       "      <td>Yes</td>\n",
       "      <td>729</td>\n",
       "      <td>Zara</td>\n",
       "      <td>https://www.zara.com/us/en/cropped-leather-jac...</td>\n",
       "      <td>323134418-800-3</td>\n",
       "      <td>CROPPED LEATHER JACKET</td>\n",
       "      <td>Leather jacket. Cropped length. Lapel collar a...</td>\n",
       "      <td>439.0</td>\n",
       "      <td>USD</td>\n",
       "      <td>2024-02-19T08:50:13.771115</td>\n",
       "      <td>jackets</td>\n",
       "      <td>MAN</td>\n",
       "    </tr>\n",
       "    <tr>\n",
       "      <th>22</th>\n",
       "      <td>161909</td>\n",
       "      <td>Aisle</td>\n",
       "      <td>Yes</td>\n",
       "      <td>Clothing</td>\n",
       "      <td>No</td>\n",
       "      <td>1290</td>\n",
       "      <td>Zara</td>\n",
       "      <td>https://www.zara.com/us/en/leather-jacket-p054...</td>\n",
       "      <td>315529534-705-3</td>\n",
       "      <td>LEATHER JACKET</td>\n",
       "      <td>Relaxed fit jacket in leather. Spread collar a...</td>\n",
       "      <td>299.0</td>\n",
       "      <td>USD</td>\n",
       "      <td>2024-02-19T08:50:18.813979</td>\n",
       "      <td>jackets</td>\n",
       "      <td>MAN</td>\n",
       "    </tr>\n",
       "    <tr>\n",
       "      <th>38</th>\n",
       "      <td>114877</td>\n",
       "      <td>Aisle</td>\n",
       "      <td>No</td>\n",
       "      <td>Clothing</td>\n",
       "      <td>No</td>\n",
       "      <td>1860</td>\n",
       "      <td>Zara</td>\n",
       "      <td>https://www.zara.com/us/en/suede-jacket-p02521...</td>\n",
       "      <td>323134415-700-3</td>\n",
       "      <td>SUEDE JACKET</td>\n",
       "      <td>Jacket made of suede. Cropped length. Lapel co...</td>\n",
       "      <td>349.0</td>\n",
       "      <td>USD</td>\n",
       "      <td>2024-02-19T08:50:29.497634</td>\n",
       "      <td>jackets</td>\n",
       "      <td>MAN</td>\n",
       "    </tr>\n",
       "    <tr>\n",
       "      <th>60</th>\n",
       "      <td>151925</td>\n",
       "      <td>End-cap</td>\n",
       "      <td>Yes</td>\n",
       "      <td>Clothing</td>\n",
       "      <td>Yes</td>\n",
       "      <td>2179</td>\n",
       "      <td>Zara</td>\n",
       "      <td>https://www.zara.com/us/en/vintage-effect-leat...</td>\n",
       "      <td>320774184-800-97</td>\n",
       "      <td>VINTAGE EFFECT LEATHER BOMBER JACKET</td>\n",
       "      <td>NaN</td>\n",
       "      <td>299.0</td>\n",
       "      <td>USD</td>\n",
       "      <td>2024-02-19T08:50:43.543555</td>\n",
       "      <td>jackets</td>\n",
       "      <td>MAN</td>\n",
       "    </tr>\n",
       "    <tr>\n",
       "      <th>67</th>\n",
       "      <td>154016</td>\n",
       "      <td>End-cap</td>\n",
       "      <td>Yes</td>\n",
       "      <td>Clothing</td>\n",
       "      <td>Yes</td>\n",
       "      <td>2366</td>\n",
       "      <td>Zara</td>\n",
       "      <td>https://www.zara.com/us/en/wool-blend-textured...</td>\n",
       "      <td>328244979-064-48</td>\n",
       "      <td>WOOL BLEND TEXTURED JACKET</td>\n",
       "      <td>Jacket made of wool blend fabric. Pointed lape...</td>\n",
       "      <td>189.0</td>\n",
       "      <td>USD</td>\n",
       "      <td>2024-02-19T08:50:48.692260</td>\n",
       "      <td>jackets</td>\n",
       "      <td>MAN</td>\n",
       "    </tr>\n",
       "  </tbody>\n",
       "</table>\n",
       "</div>"
      ],
      "text/plain": [
       "    Product ID Product Position Promotion Product Category Seasonal  \\\n",
       "13      151396   Front of Store       Yes         Clothing      Yes   \n",
       "22      161909            Aisle       Yes         Clothing       No   \n",
       "38      114877            Aisle        No         Clothing       No   \n",
       "60      151925          End-cap       Yes         Clothing      Yes   \n",
       "67      154016          End-cap       Yes         Clothing      Yes   \n",
       "\n",
       "    Sales Volume brand                                                url  \\\n",
       "13           729  Zara  https://www.zara.com/us/en/cropped-leather-jac...   \n",
       "22          1290  Zara  https://www.zara.com/us/en/leather-jacket-p054...   \n",
       "38          1860  Zara  https://www.zara.com/us/en/suede-jacket-p02521...   \n",
       "60          2179  Zara  https://www.zara.com/us/en/vintage-effect-leat...   \n",
       "67          2366  Zara  https://www.zara.com/us/en/wool-blend-textured...   \n",
       "\n",
       "                 sku                                  name  \\\n",
       "13   323134418-800-3                CROPPED LEATHER JACKET   \n",
       "22   315529534-705-3                        LEATHER JACKET   \n",
       "38   323134415-700-3                          SUEDE JACKET   \n",
       "60  320774184-800-97  VINTAGE EFFECT LEATHER BOMBER JACKET   \n",
       "67  328244979-064-48            WOOL BLEND TEXTURED JACKET   \n",
       "\n",
       "                                          description  price currency  \\\n",
       "13  Leather jacket. Cropped length. Lapel collar a...  439.0      USD   \n",
       "22  Relaxed fit jacket in leather. Spread collar a...  299.0      USD   \n",
       "38  Jacket made of suede. Cropped length. Lapel co...  349.0      USD   \n",
       "60                                                NaN  299.0      USD   \n",
       "67  Jacket made of wool blend fabric. Pointed lape...  189.0      USD   \n",
       "\n",
       "                    scraped_at    terms section  \n",
       "13  2024-02-19T08:50:13.771115  jackets     MAN  \n",
       "22  2024-02-19T08:50:18.813979  jackets     MAN  \n",
       "38  2024-02-19T08:50:29.497634  jackets     MAN  \n",
       "60  2024-02-19T08:50:43.543555  jackets     MAN  \n",
       "67  2024-02-19T08:50:48.692260  jackets     MAN  "
      ]
     },
     "execution_count": 118,
     "metadata": {},
     "output_type": "execute_result"
    }
   ],
   "source": [
    "df[df['price'] >= 180]\n",
    "#📌 Conclusion: These are high-end leather/wool jackets, \n",
    "#which justifies their price. They’re outliers statistically, but not errors. You can keep them."
   ]
  },
  {
   "cell_type": "code",
   "execution_count": 124,
   "id": "1b6bc165-a3d9-433c-9f70-02709530a507",
   "metadata": {},
   "outputs": [
    {
     "data": {
      "image/png": "[encoded data removed]",
      "text/plain": [
       "<Figure size 640x480 with 1 Axes>"
      ]
     },
     "metadata": {},
     "output_type": "display_data"
    }
   ],
   "source": [
    "#3. Price Distribution (Histogram)\n",
    "\n",
    "zaradf['price'].hist(bins=30)\n",
    "plt.title('Price Distribution')\n",
    "plt.xlabel('Price (€)')\n",
    "plt.ylabel('Number of Products')\n",
    "plt.show()\n"
   ]
  },
  {
   "cell_type": "markdown",
   "id": "49fe9a95-877b-4496-88fe-5f1b260027d2",
   "metadata": {},
   "source": [
    "### Product Position Impact"
   ]
  },
  {
   "cell_type": "code",
   "execution_count": 126,
   "id": "e815db52-a3e8-4eb1-bfe8-e05ea68ae5cd",
   "metadata": {},
   "outputs": [
    {
     "data": {
      "text/plain": [
       "Product Position\n",
       "Front of Store    1873.144928\n",
       "Aisle             1828.824742\n",
       "End-cap           1778.255814\n",
       "Name: Sales Volume, dtype: float64"
      ]
     },
     "execution_count": 126,
     "metadata": {},
     "output_type": "execute_result"
    }
   ],
   "source": [
    "#4. Sales by Product Position\n",
    "\n",
    "df.groupby('Product Position')['Sales Volume'].mean().sort_values(ascending=False)\n",
    "#This tells you:\n",
    "#“Which product positions lead to higher average sales?” i can include this in my EDA (Exploratory Data Analysis)"
   ]
  },
  {
   "cell_type": "code",
   "execution_count": 165,
   "id": "7d9b00b4-029b-4fb0-8fa9-7e14e33a48eb",
   "metadata": {},
   "outputs": [
    {
     "data": {
      "image/png": "[encoded data removed]",
      "text/plain": [
       "<Figure size 640x480 with 1 Axes>"
      ]
     },
     "metadata": {},
     "output_type": "display_data"
    }
   ],
   "source": [
    "import seaborn as sns\n",
    "import matplotlib.pyplot as plt\n",
    "\n",
    "sns.barplot(x='Product Position', y='Sales Volume', data=df, estimator='sum')\n",
    "plt.title('Total Sales Volume by Product Position')\n",
    "plt.ylabel('Total Units Sold')\n",
    "plt.xlabel('Product Position')\n",
    "plt.xticks(rotation=45)\n",
    "plt.tight_layout()\n",
    "plt.show()\n"
   ]
  },
  {
   "cell_type": "code",
   "execution_count": 130,
   "id": "2258bd1f-ed76-4239-845d-34e0e4cd4cbc",
   "metadata": {},
   "outputs": [
    {
     "data": {
      "text/plain": [
       "Product Position\n",
       "Aisle             177396\n",
       "End-cap           152930\n",
       "Front of Store    129247\n",
       "Name: Sales Volume, dtype: int64"
      ]
     },
     "execution_count": 130,
     "metadata": {},
     "output_type": "execute_result"
    }
   ],
   "source": [
    "df.groupby('Product Position')['Sales Volume'].sum().sort_values(ascending=False)\n",
    "#This shows total units sold per position."
   ]
  },
  {
   "cell_type": "markdown",
   "id": "b2ba8201-f495-483b-8a78-4e709003fc06",
   "metadata": {},
   "source": [
    "### Sales Performance Analysis"
   ]
  },
  {
   "cell_type": "markdown",
   "id": "a7d5feda-4d80-45a5-8282-866cd16340e6",
   "metadata": {},
   "source": [
    "#### Feature Engineering"
   ]
  },
  {
   "cell_type": "code",
   "execution_count": 163,
   "id": "8c81957e-9a3e-4cfb-9aff-0c4ba23fdf9a",
   "metadata": {},
   "outputs": [],
   "source": [
    "zaradf['Revenue']= zaradf['Price']*zaradf['Sales volume'] #creating new columns"
   ]
  },
  {
   "cell_type": "code",
   "execution_count": 157,
   "id": "096179d8-34e2-4fa3-a94e-7c96d358bfdd",
   "metadata": {},
   "outputs": [
    {
     "data": {
      "text/plain": [
       "Terms\n",
       "Jackets     259468\n",
       "Sweaters     75242\n",
       "Shoes        57906\n",
       "T-Shirts     53637\n",
       "Jeans        13320\n",
       "Name: Sales volume, dtype: int64"
      ]
     },
     "execution_count": 157,
     "metadata": {},
     "output_type": "execute_result"
    }
   ],
   "source": [
    "# 1. Top Products by Sales Volume\n",
    "\n",
    "zaradf.groupby('Terms')['Sales volume'].sum().sort_values(ascending=False).head()"
   ]
  },
  {
   "cell_type": "code",
   "execution_count": 155,
   "id": "25610643-09c4-4d42-8351-6cfc4f383f3e",
   "metadata": {},
   "outputs": [
    {
     "data": {
      "text/plain": [
       "Index(['Product id', 'Product position', 'Promotion', 'Product category',\n",
       "       'Seasonal', 'Sales volume', 'Price', 'Terms', 'Section', 'Hour', 'Day',\n",
       "       'Weekday', 'Month', 'Year', 'Revenue'],\n",
       "      dtype='object')"
      ]
     },
     "execution_count": 155,
     "metadata": {},
     "output_type": "execute_result"
    }
   ],
   "source": [
    "## Capitalize the first letter of each column name for consistancy \n",
    "zaradf.columns = [col.capitalize() for col in zaradf.columns]\n",
    "zaradf.columns"
   ]
  },
  {
   "cell_type": "code",
   "execution_count": 153,
   "id": "7367ae83-3ea7-4947-b9b1-065d5edf2d00",
   "metadata": {},
   "outputs": [
    {
     "data": {
      "text/plain": [
       "Terms\n",
       "Jackets     26581815.87\n",
       "Sweaters     4090631.48\n",
       "Shoes        3754837.63\n",
       "T-Shirts     3696806.25\n",
       "Jeans         864385.25\n",
       "Name: Revenue, dtype: float64"
      ]
     },
     "execution_count": 153,
     "metadata": {},
     "output_type": "execute_result"
    }
   ],
   "source": [
    "# 2. Top Products by Revenue\n",
    "zaradf.groupby('Terms')['Revenue'].sum().sort_values(ascending=False).head()\n"
   ]
  },
  {
   "cell_type": "code",
   "execution_count": 151,
   "id": "0fb94114-afd2-467b-9595-92cb46074ce5",
   "metadata": {},
   "outputs": [
    {
     "data": {
      "image/png": "[encoded data removed]",
      "text/plain": [
       "<Figure size 640x480 with 1 Axes>"
      ]
     },
     "metadata": {},
     "output_type": "display_data"
    }
   ],
   "source": [
    "#2. Top Products by Sales Volume (Bar Plot)\n",
    "\n",
    "top_products = zaradf.groupby('Terms')['Sales volume'].sum().sort_values(ascending=False).head()\n",
    "\n",
    "top_products.plot(kind='barh')\n",
    "plt.title('Top Products by Sales Volume')\n",
    "plt.xlabel('Sales Volume')\n",
    "plt.ylabel('Product Name')\n",
    "plt.gca().invert_yaxis()\n",
    "plt.show()\n"
   ]
  },
  {
   "cell_type": "markdown",
   "id": "905e09e4-4104-4d07-b015-89eefa53f1b7",
   "metadata": {},
   "source": [
    "### Season Impact"
   ]
  },
  {
   "cell_type": "code",
   "execution_count": 159,
   "id": "fdbfeea2-9746-41a2-bdbb-ea543e4faa2e",
   "metadata": {},
   "outputs": [
    {
     "data": {
      "text/html": [
       "<div>\n",
       "<style scoped>\n",
       "    .dataframe tbody tr th:only-of-type {\n",
       "        vertical-align: middle;\n",
       "    }\n",
       "\n",
       "    .dataframe tbody tr th {\n",
       "        vertical-align: top;\n",
       "    }\n",
       "\n",
       "    .dataframe thead th {\n",
       "        text-align: right;\n",
       "    }\n",
       "</style>\n",
       "<table border=\"1\" class=\"dataframe\">\n",
       "  <thead>\n",
       "    <tr style=\"text-align: right;\">\n",
       "      <th>Terms</th>\n",
       "      <th>Jackets</th>\n",
       "      <th>Jeans</th>\n",
       "      <th>Shoes</th>\n",
       "      <th>Sweaters</th>\n",
       "      <th>T-Shirts</th>\n",
       "    </tr>\n",
       "    <tr>\n",
       "      <th>Seasonal</th>\n",
       "      <th></th>\n",
       "      <th></th>\n",
       "      <th></th>\n",
       "      <th></th>\n",
       "      <th></th>\n",
       "    </tr>\n",
       "  </thead>\n",
       "  <tbody>\n",
       "    <tr>\n",
       "      <th>No</th>\n",
       "      <td>124147</td>\n",
       "      <td>9672</td>\n",
       "      <td>39803</td>\n",
       "      <td>20270</td>\n",
       "      <td>32500</td>\n",
       "    </tr>\n",
       "    <tr>\n",
       "      <th>Yes</th>\n",
       "      <td>135321</td>\n",
       "      <td>3648</td>\n",
       "      <td>18103</td>\n",
       "      <td>54972</td>\n",
       "      <td>21137</td>\n",
       "    </tr>\n",
       "  </tbody>\n",
       "</table>\n",
       "</div>"
      ],
      "text/plain": [
       "Terms     Jackets  Jeans  Shoes  Sweaters  T-Shirts\n",
       "Seasonal                                           \n",
       "No         124147   9672  39803     20270     32500\n",
       "Yes        135321   3648  18103     54972     21137"
      ]
     },
     "execution_count": 159,
     "metadata": {},
     "output_type": "execute_result"
    }
   ],
   "source": [
    "#lets check the relationship between the jacket and the season \n",
    "#Does a certain product type (like jackets) sell more in certain seasons? \n",
    "zaradf.groupby(['Seasonal', 'Terms'])['Sales volume'].sum().unstack()\n"
   ]
  },
  {
   "cell_type": "code",
   "execution_count": 110,
   "id": "2403b777-e0c1-461e-ac0d-8cfbd2808d2e",
   "metadata": {},
   "outputs": [
    {
     "ename": "SyntaxError",
     "evalue": "invalid character '✅' (U+2705) (1021644785.py, line 1)",
     "output_type": "error",
     "traceback": [
      "\u001b[0;36m  Cell \u001b[0;32mIn[110], line 1\u001b[0;36m\u001b[0m\n\u001b[0;31m    \"\"✅ Summary: Season-dependent products: Jackets & Sweaters → show strong increase in seasonal periods.\u001b[0m\n\u001b[0m      ^\u001b[0m\n\u001b[0;31mSyntaxError\u001b[0m\u001b[0;31m:\u001b[0m invalid character '✅' (U+2705)\n"
     ]
    }
   ],
   "source": [
    "\"\"✅ Summary: Season-dependent products: Jackets & Sweaters → show strong increase in seasonal periods.\n",
    "All-season products: T-shirts, Shoes, Jeans → sold more outside of seasonal campaigns.\"\" #help in determining the seasonal items "
   ]
  },
  {
   "cell_type": "code",
   "execution_count": 158,
   "id": "215f8d94-9397-45f7-addd-26ce7e8b3999",
   "metadata": {},
   "outputs": [
    {
     "data": {
      "image/png": "[encoded data removed]",
      "text/plain": [
       "<Figure size 640x480 with 2 Axes>"
      ]
     },
     "metadata": {},
     "output_type": "display_data"
    }
   ],
   "source": [
    "#visiualize the season and the product type\n",
    "\n",
    "#📌 Goal: See how seasonal sales vary by product type (e.g., sweaters, jackets)\n",
    "\n",
    "import seaborn as sns\n",
    "import matplotlib.pyplot as plt\n",
    "\n",
    "pivot = zaradf.pivot_table(values='Sales volume', index='Seasonal', columns='Terms', aggfunc='sum')\n",
    "sns.heatmap(pivot, annot=True, fmt='.0f', cmap='YlGnBu')\n",
    "plt.title('Sales Volume by Season and Product Type')\n",
    "plt.ylabel('Seasonal')\n",
    "plt.xlabel('Product Type')\n",
    "plt.show()\n"
   ]
  },
  {
   "cell_type": "code",
   "execution_count": 178,
   "id": "0acf3432-f64d-4e84-be48-d9187db14290",
   "metadata": {},
   "outputs": [
    {
     "data": {
      "image/png": "[encoded data removed]",
      "text/plain": [
       "<Figure size 640x480 with 1 Axes>"
      ]
     },
     "metadata": {},
     "output_type": "display_data"
    }
   ],
   "source": [
    "#✅ 4. Total Sales by Product Position (Bar Chart)\n",
    "position_sales = df.groupby('Product Position')['Sales Volume'].sum().sort_values()#used df cuz product position dont exsit in the zaradf \n",
    "\n",
    "position_sales.plot(kind='barh')\n",
    "plt.title('Total Sales by Product Position')\n",
    "plt.xlabel('Sales Volume')\n",
    "plt.ylabel('Product Position')\n",
    "plt.show()\n"
   ]
  },
  {
   "cell_type": "markdown",
   "id": "97e46662-340b-4fa1-ad31-d856aaad8d78",
   "metadata": {},
   "source": [
    "### Promotion Impact\n",
    "###### Goal: Find out if promoting products leads to higher revenue.\n",
    "\n"
   ]
  },
  {
   "cell_type": "code",
   "execution_count": 167,
   "id": "03d94c49-b3cd-489f-a561-f4a66046f8e0",
   "metadata": {},
   "outputs": [
    {
     "data": {
      "text/plain": [
       "Promotion\n",
       "No     143894.618030\n",
       "Yes    166619.890833\n",
       "Name: Revenue, dtype: float64"
      ]
     },
     "execution_count": 167,
     "metadata": {},
     "output_type": "execute_result"
    }
   ],
   "source": [
    "#is the promotion has impact on the revenue\n",
    "zaradf.groupby('Promotion')['Revenue'].mean() # yes it has "
   ]
  },
  {
   "cell_type": "markdown",
   "id": "a5ab7564-ab2c-41dc-bbb4-2b2c0dd7c132",
   "metadata": {},
   "source": [
    "### Weekday Revenue Trends\n",
    "#### Goal: Identify which day of the week generates the most revenue."
   ]
  },
  {
   "cell_type": "code",
   "execution_count": 169,
   "id": "119f9ee9-c3d8-4b61-9dc1-8b5f6e4f509e",
   "metadata": {},
   "outputs": [
    {
     "data": {
      "text/plain": [
       "Weekday\n",
       "Monday    38988476.48\n",
       "Name: Revenue, dtype: float64"
      ]
     },
     "execution_count": 169,
     "metadata": {},
     "output_type": "execute_result"
    }
   ],
   "source": [
    "zaradf.groupby('Weekday')['Revenue'].sum()\n"
   ]
  },
  {
   "cell_type": "code",
   "execution_count": null,
   "id": "fcbfb651-aed1-46b4-b5c6-52c9c942cb81",
   "metadata": {},
   "outputs": [],
   "source": [
    "#Time features were excluded due to lack of variation in the source data, \n",
    "#making trend analysis unfeasible.” #you can drop them all"
   ]
  },
  {
   "cell_type": "markdown",
   "id": "d99ebd09-163f-4a67-9b30-e3bddcee9da9",
   "metadata": {},
   "source": [
    "## Save the file for power bi"
   ]
  },
  {
   "cell_type": "code",
   "execution_count": 171,
   "id": "d2e4ae64-3020-4bc9-a084-dfab7764db1a",
   "metadata": {},
   "outputs": [],
   "source": [
    "# Round the values to 2 decimal places\n",
    "zaradf['Price'] = zaradf['Price'].round(2)\n",
    "zaradf['Revenue'] = zaradf['Revenue'].round(2)\n"
   ]
  },
  {
   "cell_type": "code",
   "execution_count": 165,
   "id": "42149212-469b-4994-b346-43ee16513c47",
   "metadata": {},
   "outputs": [
    {
     "data": {
      "text/html": [
       "<div>\n",
       "<style scoped>\n",
       "    .dataframe tbody tr th:only-of-type {\n",
       "        vertical-align: middle;\n",
       "    }\n",
       "\n",
       "    .dataframe tbody tr th {\n",
       "        vertical-align: top;\n",
       "    }\n",
       "\n",
       "    .dataframe thead th {\n",
       "        text-align: right;\n",
       "    }\n",
       "</style>\n",
       "<table border=\"1\" class=\"dataframe\">\n",
       "  <thead>\n",
       "    <tr style=\"text-align: right;\">\n",
       "      <th></th>\n",
       "      <th>Product id</th>\n",
       "      <th>Product position</th>\n",
       "      <th>Promotion</th>\n",
       "      <th>Seasonal</th>\n",
       "      <th>Sales volume</th>\n",
       "      <th>Price</th>\n",
       "      <th>Terms</th>\n",
       "      <th>Section</th>\n",
       "      <th>Revenue</th>\n",
       "    </tr>\n",
       "  </thead>\n",
       "  <tbody>\n",
       "    <tr>\n",
       "      <th>0</th>\n",
       "      <td>185102</td>\n",
       "      <td>Aisle</td>\n",
       "      <td>No</td>\n",
       "      <td>No</td>\n",
       "      <td>2823</td>\n",
       "      <td>19.99</td>\n",
       "      <td>Jackets</td>\n",
       "      <td>Man</td>\n",
       "      <td>56431.77</td>\n",
       "    </tr>\n",
       "    <tr>\n",
       "      <th>1</th>\n",
       "      <td>188771</td>\n",
       "      <td>Aisle</td>\n",
       "      <td>No</td>\n",
       "      <td>No</td>\n",
       "      <td>654</td>\n",
       "      <td>169.00</td>\n",
       "      <td>Jackets</td>\n",
       "      <td>Man</td>\n",
       "      <td>110526.00</td>\n",
       "    </tr>\n",
       "    <tr>\n",
       "      <th>2</th>\n",
       "      <td>180176</td>\n",
       "      <td>End-Cap</td>\n",
       "      <td>Yes</td>\n",
       "      <td>Yes</td>\n",
       "      <td>2220</td>\n",
       "      <td>129.00</td>\n",
       "      <td>Jackets</td>\n",
       "      <td>Man</td>\n",
       "      <td>286380.00</td>\n",
       "    </tr>\n",
       "    <tr>\n",
       "      <th>3</th>\n",
       "      <td>112917</td>\n",
       "      <td>Aisle</td>\n",
       "      <td>Yes</td>\n",
       "      <td>Yes</td>\n",
       "      <td>1568</td>\n",
       "      <td>129.00</td>\n",
       "      <td>Jackets</td>\n",
       "      <td>Man</td>\n",
       "      <td>202272.00</td>\n",
       "    </tr>\n",
       "    <tr>\n",
       "      <th>4</th>\n",
       "      <td>192936</td>\n",
       "      <td>End-Cap</td>\n",
       "      <td>No</td>\n",
       "      <td>Yes</td>\n",
       "      <td>2942</td>\n",
       "      <td>139.00</td>\n",
       "      <td>Jackets</td>\n",
       "      <td>Man</td>\n",
       "      <td>408938.00</td>\n",
       "    </tr>\n",
       "  </tbody>\n",
       "</table>\n",
       "</div>"
      ],
      "text/plain": [
       "   Product id Product position Promotion Seasonal  Sales volume   Price  \\\n",
       "0      185102            Aisle        No       No          2823   19.99   \n",
       "1      188771            Aisle        No       No           654  169.00   \n",
       "2      180176          End-Cap       Yes      Yes          2220  129.00   \n",
       "3      112917            Aisle       Yes      Yes          1568  129.00   \n",
       "4      192936          End-Cap        No      Yes          2942  139.00   \n",
       "\n",
       "     Terms Section    Revenue  \n",
       "0  Jackets     Man   56431.77  \n",
       "1  Jackets     Man  110526.00  \n",
       "2  Jackets     Man  286380.00  \n",
       "3  Jackets     Man  202272.00  \n",
       "4  Jackets     Man  408938.00  "
      ]
     },
     "execution_count": 165,
     "metadata": {},
     "output_type": "execute_result"
    }
   ],
   "source": [
    "zaradf.head()"
   ]
  },
  {
   "cell_type": "code",
   "execution_count": 167,
   "id": "85fc15f3-e3a1-4a1c-8311-dca414e1d216",
   "metadata": {},
   "outputs": [],
   "source": [
    "#zaradf.to_csv(\"zara_sales_cleaned.csv\", index=False)\n",
    "#save it in certain folder\n",
    "zaradf.to_csv(\"/Users/amalaltlb/Downloads/Zara Sales Analysis/zara_cleaned.csv\", index=False)\n",
    "\n"
   ]
  }
 ],
 "metadata": {
  "kernelspec": {
   "display_name": "Python [conda env:base] *",
   "language": "python",
   "name": "conda-base-py"
  },
  "language_info": {
   "codemirror_mode": {
    "name": "ipython",
    "version": 3
   },
   "file_extension": ".py",
   "mimetype": "text/x-python",
   "name": "python",
   "nbconvert_exporter": "python",
   "pygments_lexer": "ipython3",
   "version": "3.12.7"
  }
 },
 "nbformat": 4,
 "nbformat_minor": 5
}
